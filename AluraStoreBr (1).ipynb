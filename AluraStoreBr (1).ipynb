{
  "nbformat": 4,
  "nbformat_minor": 0,
  "metadata": {
    "colab": {
      "provenance": []
    },
    "kernelspec": {
      "name": "python3",
      "display_name": "Python 3"
    },
    "language_info": {
      "name": "python"
    }
  },
  "cells": [
    {
      "cell_type": "markdown",
      "source": [
        "### Importação dos dados\n",
        "\n"
      ],
      "metadata": {
        "id": "RhEdWd9YUR6H"
      }
    },
    {
      "cell_type": "code",
      "execution_count": 1,
      "metadata": {
        "colab": {
          "base_uri": "https://localhost:8080/",
          "height": 293
        },
        "id": "T3EvaeQ_INIL",
        "outputId": "22a58985-500d-4854-a3e1-026d4253250c"
      },
      "outputs": [
        {
          "output_type": "execute_result",
          "data": {
            "text/plain": [
              "                 Produto Categoria do Produto    Preço      Frete  \\\n",
              "0     Assistente virtual          eletronicos   219.08   9.249790   \n",
              "1         Mesa de jantar               moveis   256.35  11.234305   \n",
              "2      Jogo de tabuleiro           brinquedos   279.51  21.262681   \n",
              "3            Micro-ondas     eletrodomesticos  1009.99  54.667344   \n",
              "4  Cadeira de escritório               moveis   446.99  26.964689   \n",
              "\n",
              "  Data da Compra        Vendedor Local da compra  Avaliação da compra  \\\n",
              "0     16/01/2021     Pedro Gomes              SP                    4   \n",
              "1     18/05/2022  Beatriz Moraes              RJ                    1   \n",
              "2     15/03/2021      João Souza              DF                    1   \n",
              "3     03/05/2022      João Souza              RS                    4   \n",
              "4     07/11/2020   Larissa Alves              MG                    5   \n",
              "\n",
              "  Tipo de pagamento  Quantidade de parcelas    lat    lon  \n",
              "0    cartao_credito                       8 -22.19 -48.79  \n",
              "1    cartao_credito                       4 -22.25 -42.66  \n",
              "2    cartao_credito                       1 -15.83 -47.86  \n",
              "3            boleto                       1 -30.17 -53.50  \n",
              "4            boleto                       1 -18.10 -44.38  "
            ],
            "text/html": [
              "\n",
              "  <div id=\"df-4970b201-1e65-4d04-a3bd-b8e3753446c7\" class=\"colab-df-container\">\n",
              "    <div>\n",
              "<style scoped>\n",
              "    .dataframe tbody tr th:only-of-type {\n",
              "        vertical-align: middle;\n",
              "    }\n",
              "\n",
              "    .dataframe tbody tr th {\n",
              "        vertical-align: top;\n",
              "    }\n",
              "\n",
              "    .dataframe thead th {\n",
              "        text-align: right;\n",
              "    }\n",
              "</style>\n",
              "<table border=\"1\" class=\"dataframe\">\n",
              "  <thead>\n",
              "    <tr style=\"text-align: right;\">\n",
              "      <th></th>\n",
              "      <th>Produto</th>\n",
              "      <th>Categoria do Produto</th>\n",
              "      <th>Preço</th>\n",
              "      <th>Frete</th>\n",
              "      <th>Data da Compra</th>\n",
              "      <th>Vendedor</th>\n",
              "      <th>Local da compra</th>\n",
              "      <th>Avaliação da compra</th>\n",
              "      <th>Tipo de pagamento</th>\n",
              "      <th>Quantidade de parcelas</th>\n",
              "      <th>lat</th>\n",
              "      <th>lon</th>\n",
              "    </tr>\n",
              "  </thead>\n",
              "  <tbody>\n",
              "    <tr>\n",
              "      <th>0</th>\n",
              "      <td>Assistente virtual</td>\n",
              "      <td>eletronicos</td>\n",
              "      <td>219.08</td>\n",
              "      <td>9.249790</td>\n",
              "      <td>16/01/2021</td>\n",
              "      <td>Pedro Gomes</td>\n",
              "      <td>SP</td>\n",
              "      <td>4</td>\n",
              "      <td>cartao_credito</td>\n",
              "      <td>8</td>\n",
              "      <td>-22.19</td>\n",
              "      <td>-48.79</td>\n",
              "    </tr>\n",
              "    <tr>\n",
              "      <th>1</th>\n",
              "      <td>Mesa de jantar</td>\n",
              "      <td>moveis</td>\n",
              "      <td>256.35</td>\n",
              "      <td>11.234305</td>\n",
              "      <td>18/05/2022</td>\n",
              "      <td>Beatriz Moraes</td>\n",
              "      <td>RJ</td>\n",
              "      <td>1</td>\n",
              "      <td>cartao_credito</td>\n",
              "      <td>4</td>\n",
              "      <td>-22.25</td>\n",
              "      <td>-42.66</td>\n",
              "    </tr>\n",
              "    <tr>\n",
              "      <th>2</th>\n",
              "      <td>Jogo de tabuleiro</td>\n",
              "      <td>brinquedos</td>\n",
              "      <td>279.51</td>\n",
              "      <td>21.262681</td>\n",
              "      <td>15/03/2021</td>\n",
              "      <td>João Souza</td>\n",
              "      <td>DF</td>\n",
              "      <td>1</td>\n",
              "      <td>cartao_credito</td>\n",
              "      <td>1</td>\n",
              "      <td>-15.83</td>\n",
              "      <td>-47.86</td>\n",
              "    </tr>\n",
              "    <tr>\n",
              "      <th>3</th>\n",
              "      <td>Micro-ondas</td>\n",
              "      <td>eletrodomesticos</td>\n",
              "      <td>1009.99</td>\n",
              "      <td>54.667344</td>\n",
              "      <td>03/05/2022</td>\n",
              "      <td>João Souza</td>\n",
              "      <td>RS</td>\n",
              "      <td>4</td>\n",
              "      <td>boleto</td>\n",
              "      <td>1</td>\n",
              "      <td>-30.17</td>\n",
              "      <td>-53.50</td>\n",
              "    </tr>\n",
              "    <tr>\n",
              "      <th>4</th>\n",
              "      <td>Cadeira de escritório</td>\n",
              "      <td>moveis</td>\n",
              "      <td>446.99</td>\n",
              "      <td>26.964689</td>\n",
              "      <td>07/11/2020</td>\n",
              "      <td>Larissa Alves</td>\n",
              "      <td>MG</td>\n",
              "      <td>5</td>\n",
              "      <td>boleto</td>\n",
              "      <td>1</td>\n",
              "      <td>-18.10</td>\n",
              "      <td>-44.38</td>\n",
              "    </tr>\n",
              "  </tbody>\n",
              "</table>\n",
              "</div>\n",
              "    <div class=\"colab-df-buttons\">\n",
              "\n",
              "  <div class=\"colab-df-container\">\n",
              "    <button class=\"colab-df-convert\" onclick=\"convertToInteractive('df-4970b201-1e65-4d04-a3bd-b8e3753446c7')\"\n",
              "            title=\"Convert this dataframe to an interactive table.\"\n",
              "            style=\"display:none;\">\n",
              "\n",
              "  <svg xmlns=\"http://www.w3.org/2000/svg\" height=\"24px\" viewBox=\"0 -960 960 960\">\n",
              "    <path d=\"M120-120v-720h720v720H120Zm60-500h600v-160H180v160Zm220 220h160v-160H400v160Zm0 220h160v-160H400v160ZM180-400h160v-160H180v160Zm440 0h160v-160H620v160ZM180-180h160v-160H180v160Zm440 0h160v-160H620v160Z\"/>\n",
              "  </svg>\n",
              "    </button>\n",
              "\n",
              "  <style>\n",
              "    .colab-df-container {\n",
              "      display:flex;\n",
              "      gap: 12px;\n",
              "    }\n",
              "\n",
              "    .colab-df-convert {\n",
              "      background-color: #E8F0FE;\n",
              "      border: none;\n",
              "      border-radius: 50%;\n",
              "      cursor: pointer;\n",
              "      display: none;\n",
              "      fill: #1967D2;\n",
              "      height: 32px;\n",
              "      padding: 0 0 0 0;\n",
              "      width: 32px;\n",
              "    }\n",
              "\n",
              "    .colab-df-convert:hover {\n",
              "      background-color: #E2EBFA;\n",
              "      box-shadow: 0px 1px 2px rgba(60, 64, 67, 0.3), 0px 1px 3px 1px rgba(60, 64, 67, 0.15);\n",
              "      fill: #174EA6;\n",
              "    }\n",
              "\n",
              "    .colab-df-buttons div {\n",
              "      margin-bottom: 4px;\n",
              "    }\n",
              "\n",
              "    [theme=dark] .colab-df-convert {\n",
              "      background-color: #3B4455;\n",
              "      fill: #D2E3FC;\n",
              "    }\n",
              "\n",
              "    [theme=dark] .colab-df-convert:hover {\n",
              "      background-color: #434B5C;\n",
              "      box-shadow: 0px 1px 3px 1px rgba(0, 0, 0, 0.15);\n",
              "      filter: drop-shadow(0px 1px 2px rgba(0, 0, 0, 0.3));\n",
              "      fill: #FFFFFF;\n",
              "    }\n",
              "  </style>\n",
              "\n",
              "    <script>\n",
              "      const buttonEl =\n",
              "        document.querySelector('#df-4970b201-1e65-4d04-a3bd-b8e3753446c7 button.colab-df-convert');\n",
              "      buttonEl.style.display =\n",
              "        google.colab.kernel.accessAllowed ? 'block' : 'none';\n",
              "\n",
              "      async function convertToInteractive(key) {\n",
              "        const element = document.querySelector('#df-4970b201-1e65-4d04-a3bd-b8e3753446c7');\n",
              "        const dataTable =\n",
              "          await google.colab.kernel.invokeFunction('convertToInteractive',\n",
              "                                                    [key], {});\n",
              "        if (!dataTable) return;\n",
              "\n",
              "        const docLinkHtml = 'Like what you see? Visit the ' +\n",
              "          '<a target=\"_blank\" href=https://colab.research.google.com/notebooks/data_table.ipynb>data table notebook</a>'\n",
              "          + ' to learn more about interactive tables.';\n",
              "        element.innerHTML = '';\n",
              "        dataTable['output_type'] = 'display_data';\n",
              "        await google.colab.output.renderOutput(dataTable, element);\n",
              "        const docLink = document.createElement('div');\n",
              "        docLink.innerHTML = docLinkHtml;\n",
              "        element.appendChild(docLink);\n",
              "      }\n",
              "    </script>\n",
              "  </div>\n",
              "\n",
              "\n",
              "    <div id=\"df-b6ea9aae-2390-461c-ae52-907088d012e3\">\n",
              "      <button class=\"colab-df-quickchart\" onclick=\"quickchart('df-b6ea9aae-2390-461c-ae52-907088d012e3')\"\n",
              "                title=\"Suggest charts\"\n",
              "                style=\"display:none;\">\n",
              "\n",
              "<svg xmlns=\"http://www.w3.org/2000/svg\" height=\"24px\"viewBox=\"0 0 24 24\"\n",
              "     width=\"24px\">\n",
              "    <g>\n",
              "        <path d=\"M19 3H5c-1.1 0-2 .9-2 2v14c0 1.1.9 2 2 2h14c1.1 0 2-.9 2-2V5c0-1.1-.9-2-2-2zM9 17H7v-7h2v7zm4 0h-2V7h2v10zm4 0h-2v-4h2v4z\"/>\n",
              "    </g>\n",
              "</svg>\n",
              "      </button>\n",
              "\n",
              "<style>\n",
              "  .colab-df-quickchart {\n",
              "      --bg-color: #E8F0FE;\n",
              "      --fill-color: #1967D2;\n",
              "      --hover-bg-color: #E2EBFA;\n",
              "      --hover-fill-color: #174EA6;\n",
              "      --disabled-fill-color: #AAA;\n",
              "      --disabled-bg-color: #DDD;\n",
              "  }\n",
              "\n",
              "  [theme=dark] .colab-df-quickchart {\n",
              "      --bg-color: #3B4455;\n",
              "      --fill-color: #D2E3FC;\n",
              "      --hover-bg-color: #434B5C;\n",
              "      --hover-fill-color: #FFFFFF;\n",
              "      --disabled-bg-color: #3B4455;\n",
              "      --disabled-fill-color: #666;\n",
              "  }\n",
              "\n",
              "  .colab-df-quickchart {\n",
              "    background-color: var(--bg-color);\n",
              "    border: none;\n",
              "    border-radius: 50%;\n",
              "    cursor: pointer;\n",
              "    display: none;\n",
              "    fill: var(--fill-color);\n",
              "    height: 32px;\n",
              "    padding: 0;\n",
              "    width: 32px;\n",
              "  }\n",
              "\n",
              "  .colab-df-quickchart:hover {\n",
              "    background-color: var(--hover-bg-color);\n",
              "    box-shadow: 0 1px 2px rgba(60, 64, 67, 0.3), 0 1px 3px 1px rgba(60, 64, 67, 0.15);\n",
              "    fill: var(--button-hover-fill-color);\n",
              "  }\n",
              "\n",
              "  .colab-df-quickchart-complete:disabled,\n",
              "  .colab-df-quickchart-complete:disabled:hover {\n",
              "    background-color: var(--disabled-bg-color);\n",
              "    fill: var(--disabled-fill-color);\n",
              "    box-shadow: none;\n",
              "  }\n",
              "\n",
              "  .colab-df-spinner {\n",
              "    border: 2px solid var(--fill-color);\n",
              "    border-color: transparent;\n",
              "    border-bottom-color: var(--fill-color);\n",
              "    animation:\n",
              "      spin 1s steps(1) infinite;\n",
              "  }\n",
              "\n",
              "  @keyframes spin {\n",
              "    0% {\n",
              "      border-color: transparent;\n",
              "      border-bottom-color: var(--fill-color);\n",
              "      border-left-color: var(--fill-color);\n",
              "    }\n",
              "    20% {\n",
              "      border-color: transparent;\n",
              "      border-left-color: var(--fill-color);\n",
              "      border-top-color: var(--fill-color);\n",
              "    }\n",
              "    30% {\n",
              "      border-color: transparent;\n",
              "      border-left-color: var(--fill-color);\n",
              "      border-top-color: var(--fill-color);\n",
              "      border-right-color: var(--fill-color);\n",
              "    }\n",
              "    40% {\n",
              "      border-color: transparent;\n",
              "      border-right-color: var(--fill-color);\n",
              "      border-top-color: var(--fill-color);\n",
              "    }\n",
              "    60% {\n",
              "      border-color: transparent;\n",
              "      border-right-color: var(--fill-color);\n",
              "    }\n",
              "    80% {\n",
              "      border-color: transparent;\n",
              "      border-right-color: var(--fill-color);\n",
              "      border-bottom-color: var(--fill-color);\n",
              "    }\n",
              "    90% {\n",
              "      border-color: transparent;\n",
              "      border-bottom-color: var(--fill-color);\n",
              "    }\n",
              "  }\n",
              "</style>\n",
              "\n",
              "      <script>\n",
              "        async function quickchart(key) {\n",
              "          const quickchartButtonEl =\n",
              "            document.querySelector('#' + key + ' button');\n",
              "          quickchartButtonEl.disabled = true;  // To prevent multiple clicks.\n",
              "          quickchartButtonEl.classList.add('colab-df-spinner');\n",
              "          try {\n",
              "            const charts = await google.colab.kernel.invokeFunction(\n",
              "                'suggestCharts', [key], {});\n",
              "          } catch (error) {\n",
              "            console.error('Error during call to suggestCharts:', error);\n",
              "          }\n",
              "          quickchartButtonEl.classList.remove('colab-df-spinner');\n",
              "          quickchartButtonEl.classList.add('colab-df-quickchart-complete');\n",
              "        }\n",
              "        (() => {\n",
              "          let quickchartButtonEl =\n",
              "            document.querySelector('#df-b6ea9aae-2390-461c-ae52-907088d012e3 button');\n",
              "          quickchartButtonEl.style.display =\n",
              "            google.colab.kernel.accessAllowed ? 'block' : 'none';\n",
              "        })();\n",
              "      </script>\n",
              "    </div>\n",
              "\n",
              "    </div>\n",
              "  </div>\n"
            ],
            "application/vnd.google.colaboratory.intrinsic+json": {
              "type": "dataframe",
              "variable_name": "loja",
              "summary": "{\n  \"name\": \"loja\",\n  \"rows\": 2359,\n  \"fields\": [\n    {\n      \"column\": \"Produto\",\n      \"properties\": {\n        \"dtype\": \"category\",\n        \"num_unique_values\": 51,\n        \"samples\": [\n          \"Viol\\u00e3o\",\n          \"Bola de basquete\",\n          \"Smartwatch\"\n        ],\n        \"semantic_type\": \"\",\n        \"description\": \"\"\n      }\n    },\n    {\n      \"column\": \"Categoria do Produto\",\n      \"properties\": {\n        \"dtype\": \"category\",\n        \"num_unique_values\": 8,\n        \"samples\": [\n          \"moveis\",\n          \"esporte e lazer\",\n          \"eletronicos\"\n        ],\n        \"semantic_type\": \"\",\n        \"description\": \"\"\n      }\n    },\n    {\n      \"column\": \"Pre\\u00e7o\",\n      \"properties\": {\n        \"dtype\": \"number\",\n        \"std\": 819.5827782539145,\n        \"min\": 10.07,\n        \"max\": 3969.38,\n        \"num_unique_values\": 2315,\n        \"samples\": [\n          446.11,\n          107.31,\n          65.86\n        ],\n        \"semantic_type\": \"\",\n        \"description\": \"\"\n      }\n    },\n    {\n      \"column\": \"Frete\",\n      \"properties\": {\n        \"dtype\": \"number\",\n        \"std\": 43.814183327408166,\n        \"min\": 0.0,\n        \"max\": 214.3770604781,\n        \"num_unique_values\": 2149,\n        \"samples\": [\n          83.815279607,\n          16.069664669,\n          14.0344876928\n        ],\n        \"semantic_type\": \"\",\n        \"description\": \"\"\n      }\n    },\n    {\n      \"column\": \"Data da Compra\",\n      \"properties\": {\n        \"dtype\": \"object\",\n        \"num_unique_values\": 1018,\n        \"samples\": [\n          \"15/09/2022\",\n          \"03/06/2020\",\n          \"06/11/2021\"\n        ],\n        \"semantic_type\": \"\",\n        \"description\": \"\"\n      }\n    },\n    {\n      \"column\": \"Vendedor\",\n      \"properties\": {\n        \"dtype\": \"category\",\n        \"num_unique_values\": 14,\n        \"samples\": [\n          \"Juliana Costa\",\n          \"Mariana Ferreira\",\n          \"Pedro Gomes\"\n        ],\n        \"semantic_type\": \"\",\n        \"description\": \"\"\n      }\n    },\n    {\n      \"column\": \"Local da compra\",\n      \"properties\": {\n        \"dtype\": \"category\",\n        \"num_unique_values\": 26,\n        \"samples\": [\n          \"TO\",\n          \"RN\",\n          \"SP\"\n        ],\n        \"semantic_type\": \"\",\n        \"description\": \"\"\n      }\n    },\n    {\n      \"column\": \"Avalia\\u00e7\\u00e3o da compra\",\n      \"properties\": {\n        \"dtype\": \"number\",\n        \"std\": 1,\n        \"min\": 1,\n        \"max\": 5,\n        \"num_unique_values\": 5,\n        \"samples\": [\n          1,\n          2,\n          5\n        ],\n        \"semantic_type\": \"\",\n        \"description\": \"\"\n      }\n    },\n    {\n      \"column\": \"Tipo de pagamento\",\n      \"properties\": {\n        \"dtype\": \"category\",\n        \"num_unique_values\": 4,\n        \"samples\": [\n          \"boleto\",\n          \"cartao_debito\",\n          \"cartao_credito\"\n        ],\n        \"semantic_type\": \"\",\n        \"description\": \"\"\n      }\n    },\n    {\n      \"column\": \"Quantidade de parcelas\",\n      \"properties\": {\n        \"dtype\": \"number\",\n        \"std\": 2,\n        \"min\": 1,\n        \"max\": 24,\n        \"num_unique_values\": 15,\n        \"samples\": [\n          7,\n          14,\n          8\n        ],\n        \"semantic_type\": \"\",\n        \"description\": \"\"\n      }\n    },\n    {\n      \"column\": \"lat\",\n      \"properties\": {\n        \"dtype\": \"number\",\n        \"std\": 5.372399916530833,\n        \"min\": -30.17,\n        \"max\": 1.41,\n        \"num_unique_values\": 26,\n        \"samples\": [\n          -9.46,\n          -5.81,\n          -22.19\n        ],\n        \"semantic_type\": \"\",\n        \"description\": \"\"\n      }\n    },\n    {\n      \"column\": \"lon\",\n      \"properties\": {\n        \"dtype\": \"number\",\n        \"std\": 4.183180020544179,\n        \"min\": -70.55,\n        \"max\": -36.59,\n        \"num_unique_values\": 26,\n        \"samples\": [\n          -48.26,\n          -36.59,\n          -48.79\n        ],\n        \"semantic_type\": \"\",\n        \"description\": \"\"\n      }\n    }\n  ]\n}"
            }
          },
          "metadata": {},
          "execution_count": 1
        }
      ],
      "source": [
        "import pandas as pd\n",
        "\n",
        "url = \"https://raw.githubusercontent.com/alura-es-cursos/challenge1-data-science/refs/heads/main/base-de-dados-challenge-1/loja_1.csv\"\n",
        "url2 = \"https://raw.githubusercontent.com/alura-es-cursos/challenge1-data-science/refs/heads/main/base-de-dados-challenge-1/loja_2.csv\"\n",
        "url3 = \"https://raw.githubusercontent.com/alura-es-cursos/challenge1-data-science/refs/heads/main/base-de-dados-challenge-1/loja_3.csv\"\n",
        "url4 = \"https://raw.githubusercontent.com/alura-es-cursos/challenge1-data-science/refs/heads/main/base-de-dados-challenge-1/loja_4.csv\"\n",
        "\n",
        "loja = pd.read_csv(url)\n",
        "loja2 = pd.read_csv(url2)\n",
        "loja3 = pd.read_csv(url3)\n",
        "loja4 = pd.read_csv(url4)\n",
        "\n",
        "loja.head()"
      ]
    },
    {
      "cell_type": "markdown",
      "source": [
        "#1. Análise do faturamento\n"
      ],
      "metadata": {
        "id": "X62IW3KFUIYm"
      }
    },
    {
      "cell_type": "markdown",
      "source": [],
      "metadata": {
        "id": "ORc_kHP7uPMW"
      }
    },
    {
      "cell_type": "code",
      "source": [
        "# Somando apenas o preço das vendas, sem considerar as parcelas\n",
        "faturamento_loja1 = loja['Preço'].astype(float).sum()\n",
        "faturamento_loja2 = loja2['Preço'].astype(float).sum()\n",
        "faturamento_loja3 = loja3['Preço'].astype(float).sum()\n",
        "faturamento_loja4 = loja4['Preço'].astype(float).sum()\n",
        "\n",
        "# Mostrar os resultados\n",
        "print(f\"Faturamento Loja 1: R${faturamento_loja1:,.2f}\")\n",
        "print(f\"Faturamento Loja 2: R${faturamento_loja2:,.2f}\")\n",
        "print(f\"Faturamento Loja 3: R${faturamento_loja3:,.2f}\")\n",
        "print(f\"Faturamento Loja 4: R${faturamento_loja4:,.2f}\")\n",
        "\n",
        "# Faturamento total de todas as lojas\n",
        "faturamento_total = faturamento_loja1 + faturamento_loja2 + faturamento_loja3 + faturamento_loja4\n",
        "print(f\"\\nFaturamento total de todas as lojas: R${faturamento_total:,.2f}\")\n"
      ],
      "metadata": {
        "id": "KDyr8E71V3m-",
        "colab": {
          "base_uri": "https://localhost:8080/"
        },
        "outputId": "5d0d7008-c48e-4ab6-d692-5e9ba384d250"
      },
      "execution_count": 3,
      "outputs": [
        {
          "output_type": "stream",
          "name": "stdout",
          "text": [
            "Faturamento Loja 1: R$1,534,509.12\n",
            "Faturamento Loja 2: R$1,488,459.06\n",
            "Faturamento Loja 3: R$1,464,025.03\n",
            "Faturamento Loja 4: R$1,384,497.58\n",
            "\n",
            "Faturamento total de todas as lojas: R$5,871,490.79\n"
          ]
        }
      ]
    },
    {
      "cell_type": "code",
      "source": [
        "\n",
        "\n"
      ],
      "metadata": {
        "id": "yCyVK8yAwDCy"
      },
      "execution_count": 3,
      "outputs": []
    },
    {
      "cell_type": "markdown",
      "source": [
        "# 2. Vendas por Categoria\n"
      ],
      "metadata": {
        "id": "2V_vcAPzWZmR"
      }
    },
    {
      "cell_type": "code",
      "source": [
        "from urllib.request import urlopen\n",
        "import csv\n",
        "\n",
        "urls = [url, url2, url3, url4]\n",
        "\n",
        "def ler_csv(url):\n",
        "    dados = []\n",
        "    with urlopen(url) as resposta:\n",
        "        linhas = resposta.read().decode('utf-8').splitlines()\n",
        "        leitor = csv.DictReader(linhas)\n",
        "        for linha in leitor:\n",
        "            dados.append(linha)\n",
        "    return dados\n",
        "\n",
        "vendas_por_categoria = {}\n",
        "\n",
        "for i, url in enumerate(urls):\n",
        "    dados_loja = ler_csv(url)\n",
        "    print(f\"\\nVendas por categoria na Loja {i+1}:\")\n",
        "\n",
        "    categorias_loja = {}\n",
        "\n",
        "    for venda in dados_loja:\n",
        "        categoria = venda['Categoria do Produto']\n",
        "        preco = float(venda['Preço'])\n",
        "        quantidade = int(venda['Quantidade de parcelas'])\n",
        "        valor_venda = preco * quantidade\n",
        "\n",
        "        # Adicionar ao dicionário da loja atual\n",
        "        if categoria in categorias_loja:\n",
        "            categorias_loja[categoria] += valor_venda\n",
        "        else:\n",
        "            categorias_loja[categoria] = valor_venda\n",
        "\n",
        "        # Adicionar ao dicionário geral\n",
        "        if categoria in vendas_por_categoria:\n",
        "            vendas_por_categoria[categoria] += valor_venda\n",
        "        else:\n",
        "            vendas_por_categoria[categoria] = valor_venda\n",
        "\n",
        "    # Mostrar resultados para esta loja\n",
        "    for categoria, valor in categorias_loja.items():\n",
        "        print(f\"{categoria}: R${valor:,.2f}\")\n",
        "\n",
        "# Mostrar resultados totais\n",
        "print(\"\\nVendas totais por categoria (todas as lojas):\")\n",
        "for categoria, valor in vendas_por_categoria.items():\n",
        "    print(f\"{categoria}: R${valor:,.2f}\")\n",
        "\n",
        "# Calcular o total geral\n",
        "total_geral = sum(vendas_por_categoria.values())\n",
        "print(f\"\\nTotal geral de vendas: R${total_geral:,.2f}\")\n",
        "\n",
        "\n",
        "\n",
        "\n"
      ],
      "metadata": {
        "id": "A34YupIuYhfF",
        "colab": {
          "base_uri": "https://localhost:8080/"
        },
        "outputId": "79937ac7-00cc-49f8-8cf4-ad1e08564758"
      },
      "execution_count": 4,
      "outputs": [
        {
          "output_type": "stream",
          "name": "stdout",
          "text": [
            "\n",
            "Vendas por categoria na Loja 1:\n",
            "eletronicos: R$1,720,525.18\n",
            "moveis: R$777,243.14\n",
            "brinquedos: R$65,412.04\n",
            "eletrodomesticos: R$1,376,501.27\n",
            "utilidades domesticas: R$51,092.72\n",
            "esporte e lazer: R$169,179.18\n",
            "livros: R$34,360.24\n",
            "instrumentos musicais: R$369,322.34\n",
            "\n",
            "Vendas por categoria na Loja 2:\n",
            "moveis: R$703,108.03\n",
            "instrumentos musicais: R$392,599.48\n",
            "esporte e lazer: R$108,879.57\n",
            "eletronicos: R$1,715,519.72\n",
            "utilidades domesticas: R$56,984.93\n",
            "brinquedos: R$62,300.37\n",
            "eletrodomesticos: R$1,368,304.66\n",
            "livros: R$41,887.42\n",
            "\n",
            "Vendas por categoria na Loja 3:\n",
            "eletrodomesticos: R$1,441,845.38\n",
            "moveis: R$740,123.50\n",
            "instrumentos musicais: R$333,781.40\n",
            "esporte e lazer: R$164,527.29\n",
            "eletronicos: R$1,468,443.69\n",
            "brinquedos: R$81,591.72\n",
            "utilidades domesticas: R$59,635.75\n",
            "livros: R$35,142.69\n",
            "\n",
            "Vendas por categoria na Loja 4:\n",
            "eletrodomesticos: R$1,172,119.35\n",
            "moveis: R$742,172.64\n",
            "esporte e lazer: R$133,411.27\n",
            "livros: R$39,390.51\n",
            "eletronicos: R$1,615,256.00\n",
            "instrumentos musicais: R$297,117.55\n",
            "brinquedos: R$72,849.77\n",
            "utilidades domesticas: R$59,436.05\n",
            "\n",
            "Vendas totais por categoria (todas as lojas):\n",
            "eletronicos: R$6,519,744.59\n",
            "moveis: R$2,962,647.31\n",
            "brinquedos: R$282,153.90\n",
            "eletrodomesticos: R$5,358,770.66\n",
            "utilidades domesticas: R$227,149.45\n",
            "esporte e lazer: R$575,997.31\n",
            "livros: R$150,780.86\n",
            "instrumentos musicais: R$1,392,820.77\n",
            "\n",
            "Total geral de vendas: R$17,470,064.85\n"
          ]
        }
      ]
    },
    {
      "cell_type": "code",
      "source": [],
      "metadata": {
        "id": "yZR6cOjXYSk1"
      },
      "execution_count": 4,
      "outputs": []
    },
    {
      "cell_type": "markdown",
      "source": [
        "# 3. Média de Avaliação das Lojas"
      ],
      "metadata": {
        "id": "Rq6tU_xSY3jk"
      }
    },
    {
      "cell_type": "code",
      "source": [
        "def media_avaliacao(loja, numero_loja):\n",
        "    media = loja['Avaliação da compra'].mean()\n",
        "    print(f\"Média da avaliação da Loja {numero_loja}: {media:.2f}\")\n",
        "\n",
        "# Calculando para as 4 lojas\n",
        "media_avaliacao(loja, 1)\n",
        "media_avaliacao(loja2, 2)\n",
        "media_avaliacao(loja3, 3)\n",
        "media_avaliacao(loja4, 4)\n",
        "\n"
      ],
      "metadata": {
        "id": "bh3jjjJwY5MU",
        "colab": {
          "base_uri": "https://localhost:8080/"
        },
        "outputId": "aae835d5-14e5-4205-c30d-d0f5e5a77676"
      },
      "execution_count": 5,
      "outputs": [
        {
          "output_type": "stream",
          "name": "stdout",
          "text": [
            "Média da avaliação da Loja 1: 3.98\n",
            "Média da avaliação da Loja 2: 4.04\n",
            "Média da avaliação da Loja 3: 4.05\n",
            "Média da avaliação da Loja 4: 4.00\n"
          ]
        }
      ]
    },
    {
      "cell_type": "code",
      "source": [
        "\n",
        "\n"
      ],
      "metadata": {
        "id": "I0KkjPoTY88F"
      },
      "execution_count": 5,
      "outputs": []
    },
    {
      "cell_type": "markdown",
      "source": [
        "# 4. Produtos Mais e Menos Vendidos"
      ],
      "metadata": {
        "id": "DmNp1KPBZCm-"
      }
    },
    {
      "cell_type": "code",
      "source": [
        "from collections import defaultdict\n",
        "\n",
        "def top_produtos_por_faturamento(dados_loja, numero_loja):\n",
        "    faturamento_por_produto = defaultdict(float)\n",
        "\n",
        "    for _, venda in dados_loja.iterrows():\n",
        "        produto = venda['Produto']\n",
        "        preco = float(venda['Preço'])\n",
        "        faturamento_por_produto[produto] += preco\n",
        "\n",
        "    produtos_ordenados = sorted(faturamento_por_produto.items(), key=lambda x: x[1], reverse=True)\n",
        "\n",
        "    top_mais_vendidos = produtos_ordenados[:3]\n",
        "    top_menos_vendidos = produtos_ordenados[-3:]\n",
        "\n",
        "    print(f\"\\nLoja {numero_loja} - TOP 3 produtos que MAIS dinheiro geraram:\")\n",
        "    for produto, faturamento in top_mais_vendidos:\n",
        "        print(f\"{produto} - R${faturamento:.2f}\")\n",
        "\n",
        "    print(f\"\\nLoja {numero_loja} - TOP 3 produtos que MENOS dinheiro geraram:\")\n",
        "    for produto, faturamento in top_menos_vendidos:\n",
        "        print(f\"{produto} - R${faturamento:.2f}\")\n",
        "\n",
        "# Executando para as 4 lojas\n",
        "top_produtos_por_faturamento(loja, 1)\n",
        "top_produtos_por_faturamento(loja2, 2)\n",
        "top_produtos_por_faturamento(loja3, 3)\n",
        "top_produtos_por_faturamento(loja4, 4)\n"
      ],
      "metadata": {
        "id": "qoyjqijQZHfF",
        "colab": {
          "base_uri": "https://localhost:8080/"
        },
        "outputId": "b8dc0be8-40cf-4b71-ddac-2851213dd619"
      },
      "execution_count": 6,
      "outputs": [
        {
          "output_type": "stream",
          "name": "stdout",
          "text": [
            "\n",
            "Loja 1 - TOP 3 produtos que MAIS dinheiro geraram:\n",
            "TV Led UHD 4K - R$189534.28\n",
            "Geladeira - R$149524.28\n",
            "Celular Plus X42 - R$130536.40\n",
            "\n",
            "Loja 1 - TOP 3 produtos que MENOS dinheiro geraram:\n",
            "Cubo mágico 8x8 - R$929.27\n",
            "Dinossauro Rex - R$918.40\n",
            "Corda de pular - R$870.89\n",
            "\n",
            "Loja 2 - TOP 3 produtos que MAIS dinheiro geraram:\n",
            "Celular Plus X42 - R$150967.83\n",
            "TV Led UHD 4K - R$137833.06\n",
            "Geladeira - R$130176.48\n",
            "\n",
            "Loja 2 - TOP 3 produtos que MENOS dinheiro geraram:\n",
            "Corda de pular - R$1142.54\n",
            "Dinossauro Rex - R$1027.41\n",
            "Cubo mágico 8x8 - R$858.22\n",
            "\n",
            "Loja 3 - TOP 3 produtos que MAIS dinheiro geraram:\n",
            "Geladeira - R$133185.99\n",
            "TV Led UHD 4K - R$128892.11\n",
            "Celular Plus X42 - R$124300.84\n",
            "\n",
            "Loja 3 - TOP 3 produtos que MENOS dinheiro geraram:\n",
            "Corda de pular - R$1137.76\n",
            "Dinossauro Rex - R$1060.78\n",
            "Cubo mágico 8x8 - R$853.81\n",
            "\n",
            "Loja 4 - TOP 3 produtos que MAIS dinheiro geraram:\n",
            "Celular Plus X42 - R$128930.07\n",
            "TV Led UHD 4K - R$120393.25\n",
            "Smart TV - R$110387.57\n",
            "\n",
            "Loja 4 - TOP 3 produtos que MENOS dinheiro geraram:\n",
            "Dinossauro Rex - R$1143.94\n",
            "Cubo mágico 8x8 - R$997.38\n",
            "Corda de pular - R$939.74\n"
          ]
        }
      ]
    },
    {
      "cell_type": "code",
      "source": [],
      "metadata": {
        "id": "0Sw3sd4IZIGW"
      },
      "execution_count": 6,
      "outputs": []
    },
    {
      "cell_type": "markdown",
      "source": [
        "# 5. Frete Médio por Loja\n"
      ],
      "metadata": {
        "id": "Fl0cGi3bZKqU"
      }
    },
    {
      "cell_type": "code",
      "source": [
        "# Calculando o frete médio por loja\n",
        "frete_medio_loja1 = loja['Frete'].mean()\n",
        "frete_medio_loja2 = loja2['Frete'].mean()\n",
        "frete_medio_loja3 = loja3['Frete'].mean()\n",
        "frete_medio_loja4 = loja4['Frete'].mean()\n",
        "\n",
        "\n",
        "print(f\"Frete médio - Loja 1: R${frete_medio_loja1:.2f}\")\n",
        "print(f\"Frete médio - Loja 2: R${frete_medio_loja2:.2f}\")\n",
        "print(f\"Frete médio - Loja 3: R${frete_medio_loja3:.2f}\")\n",
        "print(f\"Frete médio - Loja 4: R${frete_medio_loja4:.2f}\")\n"
      ],
      "metadata": {
        "id": "S2JeaCykZNy9",
        "colab": {
          "base_uri": "https://localhost:8080/"
        },
        "outputId": "51efeaf5-b018-4197-a670-6040bb4134e3"
      },
      "execution_count": 7,
      "outputs": [
        {
          "output_type": "stream",
          "name": "stdout",
          "text": [
            "Frete médio - Loja 1: R$34.69\n",
            "Frete médio - Loja 2: R$33.62\n",
            "Frete médio - Loja 3: R$33.07\n",
            "Frete médio - Loja 4: R$31.28\n"
          ]
        }
      ]
    },
    {
      "cell_type": "code",
      "source": [],
      "metadata": {
        "id": "FGaSSH6spjaO"
      },
      "execution_count": 7,
      "outputs": []
    },
    {
      "cell_type": "markdown",
      "source": [],
      "metadata": {
        "id": "A5LQ23ZviFBk"
      }
    },
    {
      "cell_type": "markdown",
      "source": [
        "# 6. Métrica extra"
      ],
      "metadata": {
        "id": "QGS1nlNViLyp"
      }
    },
    {
      "cell_type": "code",
      "source": [
        "def ticket_medio(loja, numero_loja):\n",
        "    faturamento = loja['Preço'].sum()\n",
        "    vendas = loja.shape[0]\n",
        "    ticket = faturamento / vendas\n",
        "    print(f\"Ticket médio da Loja {numero_loja}: R$ {ticket:.2f}\")\n",
        "\n",
        "\n",
        "ticket_medio(loja, 1)\n",
        "ticket_medio(loja2, 2)\n",
        "ticket_medio(loja3, 3)\n",
        "ticket_medio(loja4, 4)\n"
      ],
      "metadata": {
        "colab": {
          "base_uri": "https://localhost:8080/"
        },
        "id": "gUUZWr_5iYX5",
        "outputId": "b7909bb2-66ce-47fb-9e85-1dbec5bb2499"
      },
      "execution_count": 10,
      "outputs": [
        {
          "output_type": "stream",
          "name": "stdout",
          "text": [
            "Ticket médio da Loja 1: R$ 650.49\n",
            "Ticket médio da Loja 2: R$ 630.97\n",
            "Ticket médio da Loja 3: R$ 620.61\n",
            "Ticket médio da Loja 4: R$ 587.15\n"
          ]
        }
      ]
    },
    {
      "cell_type": "markdown",
      "source": [],
      "metadata": {
        "id": "pKKUGGz_PeRi"
      }
    },
    {
      "cell_type": "markdown",
      "source": [
        "# 7. Gráficos"
      ],
      "metadata": {
        "id": "Kbec-4IY4b_L"
      }
    },
    {
      "cell_type": "code",
      "source": [
        "import matplotlib.pyplot as plt\n",
        "\n",
        "# Dados\n",
        "lojas = ['Loja 1', 'Loja 2', 'Loja 3', 'Loja 4']\n",
        "ticket_medio = [650.49, 630.97, 620.61, 587.15]\n",
        "avaliacoes = [3.98, 4.04, 4.05, 4.00]\n",
        "faturamento = [1534509.12, 1488459.06, 1464025.03, 1384497.58]\n",
        "\n",
        "# Gráfico de Barras – Ticket Médio\n",
        "plt.figure(figsize=(5, 3))\n",
        "plt.bar(lojas, ticket_medio, color='royalblue')\n",
        "plt.title('Ticket Médio por Loja', fontsize=10)\n",
        "plt.ylabel('R$', fontsize=9)\n",
        "plt.xticks(fontsize=8)\n",
        "plt.yticks(fontsize=8)\n",
        "plt.grid(axis='y', linestyle='--', alpha=0.6)\n",
        "plt.tight_layout()\n",
        "plt.show()\n",
        "\n",
        "# Gráfico de Linha – Avaliação Média\n",
        "plt.figure(figsize=(5, 3))\n",
        "plt.plot(lojas, avaliacoes, marker='o', color='darkorange', linewidth=2)\n",
        "plt.title('Avaliação Média dos Clientes', fontsize=10)\n",
        "plt.ylabel('Nota', fontsize=9)\n",
        "plt.ylim(3.8, 4.1)\n",
        "plt.xticks(fontsize=8)\n",
        "plt.yticks(fontsize=8)\n",
        "plt.grid(True, linestyle='--', alpha=0.5)\n",
        "plt.tight_layout()\n",
        "plt.show()\n",
        "\n",
        "# Gráfico de Pizza – Faturamento\n",
        "plt.figure(figsize=(4, 4))\n",
        "plt.pie(faturamento, labels=lojas, autopct='%1.1f%%', startangle=90,\n",
        "        colors=['#66b3ff', '#99ff99', '#ffcc99', '#ff9999'], textprops={'fontsize': 8})\n",
        "plt.title('Participação no Faturamento', fontsize=10)\n",
        "plt.axis('equal')\n",
        "plt.tight_layout()\n",
        "plt.show()\n"
      ],
      "metadata": {
        "colab": {
          "base_uri": "https://localhost:8080/",
          "height": 987
        },
        "id": "0dhzcLnwPf1z",
        "outputId": "d5a3536c-298b-49fa-c98e-5fae5763fe86"
      },
      "execution_count": 14,
      "outputs": [
        {
          "output_type": "display_data",
          "data": {
            "text/plain": [
              "<Figure size 500x300 with 1 Axes>"
            ],
            "image/png": "[encoded data removed]"
          },
          "metadata": {}
        },
        {
          "output_type": "display_data",
          "data": {
            "text/plain": [
              "<Figure size 500x300 with 1 Axes>"
            ],
            "image/png": "[encoded data removed]"
          },
          "metadata": {}
        },
        {
          "output_type": "display_data",
          "data": {
            "text/plain": [
              "<Figure size 400x400 with 1 Axes>"
            ],
            "image/png": "[encoded data removed]"
          },
          "metadata": {}
        }
      ]
    },
    {
      "cell_type": "markdown",
      "source": [
        "# 8. Relatório de Análise Estratégica para Identificação da Melhor Loja a Ser Vendida"
      ],
      "metadata": {
        "id": "1n5X62qDwK2A"
      }
    },
    {
      "cell_type": "markdown",
      "source": [
        "\n",
        "\n",
        "\n",
        "##  1. Introdução\n",
        "\n",
        "Este relatório tem como objetivo principal **identificar a loja com menor desempenho estratégico**, entre quatro lojas analisadas, para ser **vendida com o intuito de viabilizar um novo investimento ou negócio**. Foram consideradas métricas como faturamento, ticket médio, avaliação dos clientes, volume de vendas por categoria, produtos mais e menos vendidos e frete médio por loja.\n",
        "\n",
        "##  2. Metodologia Aplicada\n",
        "\n",
        "Para embasar a decisão de forma objetiva, foi adotada uma abordagem quantitativa com as seguintes etapas:\n",
        "\n",
        "- Coleta e processamento de dados em ambiente Python (Google Colab).\n",
        "- Agrupamento das métricas por loja.\n",
        "- Cálculo de indicadores-chave, como:\n",
        "  - Faturamento total\n",
        "  - Ticket médio\n",
        "  - Avaliação média dos clientes\n",
        "  - Frete médio\n",
        "  - Desempenho de vendas por produto e categoria\n",
        "- Visualização por meio de **gráficos comparativos** para facilitar a interpretação e comparação entre as lojas.\n",
        "\n",
        "## 3. Apresentação dos Dados\n",
        "\n",
        "A análise gráfica revelou as seguintes informações principais:\n",
        "\n",
        "- **Loja 1**: Apresenta o maior ticket médio (R$ 650,49) e também o maior faturamento total. No entanto, é importante destacar que essa loja possui a **menor média de avaliação dos clientes** (3,98), o que pode indicar problemas na experiência do consumidor.\n",
        "\n",
        "- **Loja 2**: Apresenta um bom equilíbrio entre ticket médio (R$ 630,97) e média de avaliação (4,01), se posicionando de forma consistente.\n",
        "\n",
        "- **Loja 3**: Destaca-se com a **melhor média de avaliação entre todas** (4,05), o que é um forte indicativo de boa experiência de compra. Seu ticket médio é de R$ 620,61.\n",
        "\n",
        "- **Loja 4**: Possui o **menor ticket médio** (R$ 587,15) e o **menor faturamento**, mas se sobressai com o **frete médio mais baixo** (RS 31,28), o que indica um bom desempenho logístico.\n",
        "\n",
        "##  4. Resultados da Análise de Dados\n",
        "\n",
        "Os gráficos comparativos mostraram que:\n",
        "\n",
        "- O faturamento e ticket médio da Loja 4 são significativamente mais baixos do que os das demais lojas.\n",
        "- Embora a Loja 4 tenha o menor custo logístico, isso não é suficiente para compensar seu baixo desempenho comercial.\n",
        "- A Loja 3 destaca-se pela excelente avaliação dos clientes, o que é um indicativo de boa experiência de compra e potencial de fidelização.\n",
        "\n",
        "##  5. Interpretações e Recomendações\n",
        "\n",
        "Com base nos resultados obtidos:\n",
        "\n",
        "- **Recomenda-se a venda da Loja 4**, pois ela é a menos rentável e menos promissora em termos de desempenho geral.\n",
        "- A **atenção deve ser redobrada com a Loja 1**, mesmo apresentando o maior faturamento e ticket médio, pois possui a **pior avaliação entre os clientes**. Isso pode indicar problemas de qualidade, atendimento ou experiência de compra, que precisam ser investigados para evitar impactos futuros.\n",
        "- As Lojas 2 e 3 demonstram bons níveis de equilíbrio entre desempenho financeiro e satisfação do cliente, sendo as mais adequadas para manutenção e possíveis investimentos futuros.\n",
        "\n",
        "##  6. Conclusão\n",
        "\n",
        "A análise dos indicadores através de gráficos aponta que a **Loja 4 é a melhor candidata à venda**, permitindo que os recursos sejam redirecionados para áreas mais estratégicas ou a abertura de um novo negócio. Além disso, é recomendado **acompanhar de perto a Loja 1**, que embora apresente bons resultados financeiros, mostra sinais de insatisfação do público, o que pode comprometer sua sustentabilidade no médio e longo prazo.\n"
      ],
      "metadata": {
        "id": "TmMU9xOzv-rq"
      }
    }
  ]
}